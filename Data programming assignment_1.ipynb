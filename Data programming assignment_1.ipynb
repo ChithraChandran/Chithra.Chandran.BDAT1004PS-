{
 "cells": [
  {
   "cell_type": "markdown",
   "id": "3a1362ac",
   "metadata": {},
   "source": [
    "# Problem Set - 1"
   ]
  },
  {
   "cell_type": "markdown",
   "id": "fa5c03bd",
   "metadata": {},
   "source": [
    "### Question - 1:\n",
    "**Finding the data type of the following**"
   ]
  },
  {
   "cell_type": "code",
   "execution_count": 42,
   "id": "e05b21d7",
   "metadata": {},
   "outputs": [
    {
     "name": "stdout",
     "output_type": "stream",
     "text": [
      "<class 'int'>\n",
      "5\n",
      "<class 'float'>\n",
      "5.0\n",
      "<class 'bool'>\n",
      "True\n",
      "<class 'str'>\n",
      "5\n",
      "<class 'int'>\n",
      "10\n",
      "<class 'str'>\n",
      "55\n",
      "<class 'str'>\n",
      "52\n",
      "<class 'float'>\n",
      "2.5\n",
      "<class 'int'>\n",
      "1\n",
      "<class 'set'>\n",
      "{1, 2, 5}\n",
      "<class 'bool'>\n",
      "False\n"
     ]
    },
    {
     "ename": "NameError",
     "evalue": "name 'pi' is not defined",
     "output_type": "error",
     "traceback": [
      "\u001b[1;31m---------------------------------------------------------------------------\u001b[0m",
      "\u001b[1;31mNameError\u001b[0m                                 Traceback (most recent call last)",
      "Cell \u001b[1;32mIn[42], line 34\u001b[0m\n\u001b[0;32m     31\u001b[0m \u001b[38;5;28mprint\u001b[39m(\u001b[38;5;28mtype\u001b[39m(\u001b[38;5;241m5\u001b[39m \u001b[38;5;241m==\u001b[39m \u001b[38;5;241m3\u001b[39m))\u001b[38;5;66;03m# this is a bool.bool represent one of two value : true or false. the function allows to evaluate any value,and give True or false in return.\u001b[39;00m\n\u001b[0;32m     32\u001b[0m \u001b[38;5;28mprint\u001b[39m(\u001b[38;5;241m5\u001b[39m \u001b[38;5;241m==\u001b[39m \u001b[38;5;241m3\u001b[39m) \n\u001b[1;32m---> 34\u001b[0m \u001b[38;5;28mprint\u001b[39m(\u001b[38;5;28mtype\u001b[39m(\u001b[43mpi\u001b[49m))\n",
      "\u001b[1;31mNameError\u001b[0m: name 'pi' is not defined"
     ]
    }
   ],
   "source": [
    "print(type(5))\n",
    "print(5)\n",
    "\n",
    "print(type(5.0))\n",
    "print(5.0)\n",
    "\n",
    "print(type(5 > 1))\n",
    "print(5>1)\n",
    "\n",
    "print(type('5'))\n",
    "print('5')#here 5 is considered as string.But to print 5 as number it is not necessary put it in string\n",
    "\n",
    "print(type(5 * 2)) \n",
    "print(5*2)\n",
    "\n",
    "print(type('5' * 2))# in this * considered to be a basic operation that used to repeat the string it becuase \"5\" is string here.\n",
    "print('5'*2) # if both them where integer ,* considered to be muitiplication \n",
    "                \n",
    "print(type('5' + '2')) #this + considered to be a basic operation that used to add something into the string.\n",
    "print('5'+'2')# if both them where integer ,+ considered to be addition operator\n",
    "\n",
    "print(type(5 / 2))# / is the division operator\n",
    "print(5 / 2)\n",
    "\n",
    "print(type(5 % 2))# % modulus operator\n",
    "print(5 % 2)\n",
    "\n",
    "print(type({5, 2, 1})) #set is a collection which is unordered and unindexed.\n",
    "print({5, 2, 1})\n",
    "\n",
    "print(type(5 == 3))# this is a bool.bool represent one of two value : true or false. the function allows to evaluate any value,and give True or false in return.\n",
    "print(5 == 3) \n",
    "\n",
    "print(type(3.14))# pi considered to be a constant function in python(import maths)."
   ]
  },
  {
   "cell_type": "markdown",
   "id": "67f5e868",
   "metadata": {},
   "source": [
    "### Question -2:\n",
    "**Write (and evaluate) python expressions that answer these questions:**\n"
   ]
  },
  {
   "cell_type": "code",
   "execution_count": 4,
   "id": "77a7325c",
   "metadata": {},
   "outputs": [
    {
     "name": "stdout",
     "output_type": "stream",
     "text": [
      "34\n",
      "Supercalifragilisticexpialidocious contains ice as substring \n",
      "34\n",
      "27\n",
      "34\n",
      "The longest words in z is  Supercalifragilisticexpialidocious and Bababadalgharaghtakamminarronnkonn\n",
      "7\n",
      "First word in the dictionary is Bartok\n",
      "First word in the dictionary is Buxtehude\n"
     ]
    }
   ],
   "source": [
    "x=\"Supercalifragilisticexpialidocious\"\n",
    "print(len(x))\n",
    "\n",
    "b=x.find(\"ice\")\n",
    "if b!= -1:\n",
    "    print(x,\"contains ice as substring \")\n",
    "else:\n",
    "    print(x,\"not contains ice as substring\")\n",
    "\n",
    "y=\"Supercalifragilisticexpialidocious,Honorificabilitudinitatibus,Bababadalgharaghtakamminarronnkonn\"\n",
    "z=y.split(\",\")\n",
    "for a in z:\n",
    "    print(len(a))\n",
    "print(\"The longest words in z is \",z[0],\"and\",z[2])\n",
    "\n",
    "dictionary=['Berlioz', 'Borodin', 'Brian','Bartok', 'Bellini', 'Buxtehude', 'Bernstein']\n",
    "dictionary.sort()\n",
    "print(len(dictionary))\n",
    "print(\"First word in the dictionary is\",dictionary[0] )\n",
    "print(\"First word in the dictionary is\",dictionary[6] )\n",
    "\n",
    "        \n",
    "\n",
    "\n",
    "\n",
    "\n",
    "     \n",
    "    "
   ]
  },
  {
   "cell_type": "markdown",
   "id": "b37f8045",
   "metadata": {},
   "source": [
    "### Question -3:\n",
    "**Implement function triangleArea(a,b,c) that takes as input the lengths of the 3\n",
    "sides of a triangle and returns the area of the triangle. By Heron's formula, the area\n",
    "of a triangle with side lengths a, b, and c is\n",
    "s(s - a)(s -b)(s -c)\n",
    ", where\n",
    "s = (a+b+c)/2.** "
   ]
  },
  {
   "cell_type": "code",
   "execution_count": 3,
   "id": "1bd46a05",
   "metadata": {},
   "outputs": [
    {
     "name": "stdout",
     "output_type": "stream",
     "text": [
      "Enter first number a =4\n",
      "Enter second number b =4\n",
      "Enter third number c =5\n",
      "Area of the triangle is : 7.806247497997997\n"
     ]
    }
   ],
   "source": [
    "import math\n",
    "a=float(input(\"Enter first number a =\"))\n",
    "b=float(input(\"Enter second number b =\"))\n",
    "c=float(input(\"Enter third number c =\"))\n",
    "s=(a+b+c)/2\n",
    "A=math.sqrt(s*(s-a)*(s-b)*(s-c))\n",
    "print(\"Area of the triangle is :\",A)\n",
    "\n",
    "    \n",
    "\n",
    "\n"
   ]
  },
  {
   "cell_type": "markdown",
   "id": "bbf35f49",
   "metadata": {},
   "source": [
    "### Question -4:\n",
    "**Write a program in python to separate odd and even integers in separate arrays.Write a program in python to separate odd and even integers in separate arrays.**\n"
   ]
  },
  {
   "cell_type": "code",
   "execution_count": 2,
   "id": "5dce606d",
   "metadata": {},
   "outputs": [
    {
     "name": "stdout",
     "output_type": "stream",
     "text": [
      "89\n",
      "67\n",
      "40\n",
      "23\n",
      "80\n",
      " Entered numbers are : [89, 67, 40, 23, 80]\n",
      "The list of even number: [40, 80]\n",
      "The list of odd number: [89, 67, 23]\n"
     ]
    }
   ],
   "source": [
    "number = []\n",
    "evenlist = []\n",
    "oddlist = []\n",
    "n=int(input(\"Input the number of elements :\"))\n",
    "for i in range(0,n):\n",
    "    a=int(input())\n",
    "    number.append(a)\n",
    "print(\" Entered numbers are :\",number)\n",
    "for i in number:\n",
    "    if i%2 == 0:\n",
    "        evenlist.append(i);\n",
    "    else:\n",
    "        oddlist.append(i);\n",
    "print(\"The Even elements are:\",evenlist)\n",
    "print(\"TThe Odd elements are:\",oddlist)"
   ]
  },
  {
   "cell_type": "markdown",
   "id": "fd3b86fa",
   "metadata": {},
   "source": [
    "### Question -5:\n",
    "**Write a function inside(x,y,x1,y1,x2,y2) that returns True or False\n",
    "depending on whether the point (x,y) lies in the rectangle with lower left\n",
    "corner (x1,y1) and upper right corner (x2,y2).**\n"
   ]
  },
  {
   "cell_type": "code",
   "execution_count": 14,
   "id": "1b6d7bbb",
   "metadata": {},
   "outputs": [
    {
     "name": "stdout",
     "output_type": "stream",
     "text": [
      "True\n",
      "False\n",
      "False\n",
      "the point not lies in rectangles\n"
     ]
    }
   ],
   "source": [
    "def inside(x,y,x1,y1,x2,y2):\n",
    "    if (x >= x1 and x <= x2 and y >= y1 and y <= y2  ):\n",
    "        print(\"True\")\n",
    "    else:\n",
    "        print(\"False\")\n",
    "inside(1,1,0,0,2,3)\n",
    "inside(-1,-1,0,0,2,3)\n",
    "\n",
    "if ((inside(1,1,0.3,0.5,1.1,0.7)) and (inside(1,1,0.5,0.2,1.1,0.2))):\n",
    "    print(\"the point lies in rectangles\")\n",
    "else:\n",
    "    print(\"the point not lies in rectangles\")\n",
    "    "
   ]
  },
  {
   "cell_type": "markdown",
   "id": "8c6668cb",
   "metadata": {},
   "source": [
    "### Question -6:\n",
    "**Write a function pig() that takes a word (i.e., a string) as input and returns its pigLatin form. Your function should still work if the input word contains upper case\n",
    "characters. Your output should always be lower case however.** "
   ]
  },
  {
   "cell_type": "code",
   "execution_count": null,
   "id": "1b25359d",
   "metadata": {},
   "outputs": [],
   "source": [
    "vowels = \"aeiou\"\n",
    "def pig(string):\n",
    "    if string[0] in vowels :\n",
    "        x=string+\"way\"\n",
    "        print(\"The output of\",string ,\":\",x.lower())\n",
    "    else:\n",
    "        x=string[-1:]+string[1:-1]+string[:1]+\"ay\"\n",
    "        print(\"The output of\",string ,\":\",x.lower())\n",
    "str=input(\"The input word:\")\n",
    "pig(str)\n",
    "str2=input(\"The input word:\")\n",
    "pig(str2)\n",
    "\n",
    "\n",
    "\n",
    "        "
   ]
  },
  {
   "cell_type": "markdown",
   "id": "4e8e47b4",
   "metadata": {},
   "source": [
    "### Qestion -7:\n",
    "**File bloodtype1.txt records blood-types of patients (A, B, AB, O or OO) at a clinic.\n",
    "Write a function bldcount() that reads the file with name name and reports (i.e.,\n",
    "prints) how many patients there are in each bloodtype.**"
   ]
  },
  {
   "cell_type": "code",
   "execution_count": 3,
   "id": "74d668a6",
   "metadata": {},
   "outputs": [
    {
     "name": "stdout",
     "output_type": "stream",
     "text": [
      "The length of the list : 44\n",
      "There are 13 patients of blood type AB\n",
      "There are 15 patients of blood type A\n",
      "There are 1 patients of blood type B\n",
      "There are 15 patients of blood type O\n",
      "There are 0 patients of blood type OO\n"
     ]
    }
   ],
   "source": [
    "def bldcount(file):\n",
    "    list=open(\"bloodtype.txt\")\n",
    "    list=list.read()\n",
    "    file=list.split()\n",
    "    print(\"The length of the list :\",len(file))\n",
    "    print(\"There are\",file.count(\"AB\"), \"patients of blood type AB\")\n",
    "    print(\"There are\",file.count(\"A\") ,\"patients of blood type A\")\n",
    "    print(\"There are\",file.count(\"B\"),\"patients of blood type B\")\n",
    "    print(\"There are\",file.count(\"O\"),\"patients of blood type O\")\n",
    "    print(\"There are\",file.count(\"OO\"),\"patients of blood type OO\")\n",
    "\n",
    "\n",
    "bldcount(\"bloodtype.txt\")\n",
    "\n",
    "\n",
    "\n",
    "\n",
    "\n",
    "\n"
   ]
  },
  {
   "cell_type": "markdown",
   "id": "378bd151",
   "metadata": {},
   "source": [
    "### Qestion -8:\n",
    "**Write a function curconv()**\n"
   ]
  },
  {
   "cell_type": "code",
   "execution_count": null,
   "id": "98769229",
   "metadata": {},
   "outputs": [
    {
     "name": "stdout",
     "output_type": "stream",
     "text": [
      "['AUD', '1.0345157', 'CHF', '1.0237414', 'CNY', '0.1550176', 'DKK', '0.1651442', 'EUR', '1.2296544', 'GBP', '1.5550989', 'HKD', '0.1270207', 'INR', '0.0177643', 'JPY', '0.01241401', 'MXN', '0.0751848', 'MYR', '0.3145411', 'NOK', '0.1677063', 'NZD', '0.8003591', 'PHP', '0.0233234', 'SEK', '0.148269', 'SGD', '0.788871', 'THB', '0.0313789']\n"
     ]
    }
   ],
   "source": [
    "file=open(\"currency rate.txt\")\n",
    "y=file.read()\n",
    "x=y.split()\n",
    "print(x)\n",
    "def currency_converter(amount,currency):\n",
    "    currency_rates={'AUD':'1.0345157','CHF':'1.0237414','CNY':'0.1550176','DKK':'0.1651442','EUR':'1.2296544',\n",
    "               'GBP':'1.5550989','HKD':'0.1270207','INR':'0.0177643','JPY':'0.01241401','MXN':'0.0751848',\n",
    "               'MYR':'0.3145411','NOK':'0.1677063','NZD':'0.8003591','PHP':'0.0233234','SEK':'0.148269',\n",
    "               'SGD':'0.788871','THB':'0.0313789'}\n",
    "    conversion_rate =float( currency_rates.get(currency,0))\n",
    "    if conversion_rate == 0:\n",
    "        return None\n",
    "    return amount*conversion_rate\n",
    "amount=float(input(\"Enter the amount:\"))\n",
    "currency=input(\"Enter the currency type :\")\n",
    "\n",
    "usd= currency_converter(amount,currency)\n",
    "if usd is None:\n",
    "    print(\" Invalid currency\")\n",
    "else:\n",
    "    print(\"{0:.2f}\".format (amount),currency,\"is equal to\",\"{0:.2f}\".format(usd),\"USD\")\n",
    "    \n",
    "\n",
    "\n",
    "\n",
    "\n"
   ]
  },
  {
   "cell_type": "markdown",
   "id": "e6a84989",
   "metadata": {},
   "source": [
    "### Qestion -9:\n",
    "**Each of the following will cause an exception (an error). Identify what type of\n",
    "exception each will cause.**"
   ]
  },
  {
   "cell_type": "markdown",
   "id": "476cbd6e",
   "metadata": {},
   "source": [
    "**1.Trying to add incompatible variables, as in\n",
    " adding 6 + ‘a’**\n",
    "\n",
    "Error: unsupported operand type(s) for +: 'int' and 'str'.\n",
    "Here 6 is int and 'a' string.we can not add astring and int\n",
    " \n",
    "**2.Referring to the 12th item of a list that has only 10\n",
    "items**\n",
    "\n",
    "IndexError: list index out of range.\n",
    "Here the list consist only 10 items that is why it can't access 12th item in the list.\n",
    "\n",
    "**3.Using a value that is out of range for a function’s\n",
    "input, such as calling math.sqrt(-1.0)**\n",
    "\n",
    "Error:math domain error\n",
    "\n",
    "**4.Using an undeclared variable, such as print(x)\n",
    "when x has not been defined**\n",
    "\n",
    "Error : name \"x\" is not defined\n",
    "\n",
    "**5.Trying to open a file that does not exist, such as\n",
    "mistyping the file name or looking in the wrong\n",
    "directory.** \n",
    "\n",
    "Error : No such file or directiory:'data.txt'\n",
    "\n"
   ]
  },
  {
   "cell_type": "markdown",
   "id": "308e58fc",
   "metadata": {},
   "source": [
    "### Qestion -10:\n",
    "**Write a function called frequencies()\n",
    "that takes a string as its only parameter, and returns a list of integers, showing the\n",
    "number of times each character appears in the text. Your function may ignore any\n",
    "characters that are not in letters.**\n"
   ]
  },
  {
   "cell_type": "code",
   "execution_count": 3,
   "id": "a1f20b04",
   "metadata": {},
   "outputs": [
    {
     "name": "stdout",
     "output_type": "stream",
     "text": [
      "Enter the word string here:Dear sisters\n",
      "dict_values([1, 0, 0, 1, 2, 0, 0, 0, 1, 0, 0, 0, 0, 0, 0, 0, 0, 2, 3, 1, 0, 0, 0, 0, 0])\n"
     ]
    }
   ],
   "source": [
    "letter= \"abcdefghijklmnopqrstuvwxyz\"\n",
    "letters = {\"a\":0,\"b\":0,\"c\":0,\"d\":0,\"e\":0,\"f\":0,\"g\":0,\"h\":0,\"i\":0,\"j\":0,\n",
    "          \"k\":0,\"l\":0,\"m\":0,\"n\":0,\"o\":0,\"p\":0,\"q\":0,\"r\":0,\"s\":0,\"t\":0,\n",
    "          \"v\":0,\"w\":0,\"x\":0,\"y\":0,\"z\":0}\n",
    "string = input(\"Enter the word string here:\")\n",
    "string = string.lower()\n",
    "def frequencies():\n",
    "    for i in range(len(string)):\n",
    "        if (string[i] in letters):\n",
    "            letter[string[i]] += 1\n",
    "        else:\n",
    "            continue\n",
    "    print(letter.values())\n",
    "frequencies()\n",
    "\n",
    "\n",
    "\n",
    "\n",
    "\n",
    "    \n",
    "    \n"
   ]
  }
 ],
 "metadata": {
  "kernelspec": {
   "display_name": "Python 3 (ipykernel)",
   "language": "python",
   "name": "python3"
  },
  "language_info": {
   "codemirror_mode": {
    "name": "ipython",
    "version": 3
   },
   "file_extension": ".py",
   "mimetype": "text/x-python",
   "name": "python",
   "nbconvert_exporter": "python",
   "pygments_lexer": "ipython3",
   "version": "3.10.9"
  }
 },
 "nbformat": 4,
 "nbformat_minor": 5
}
