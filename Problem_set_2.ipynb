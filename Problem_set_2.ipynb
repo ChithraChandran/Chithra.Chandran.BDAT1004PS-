{
 "cells": [
  {
   "cell_type": "markdown",
   "id": "a59221e1",
   "metadata": {},
   "source": [
    "# Problem set - 2"
   ]
  },
  {
   "cell_type": "markdown",
   "id": "2ed0f04a",
   "metadata": {},
   "source": [
    "## Question - 1"
   ]
  },
  {
   "cell_type": "code",
   "execution_count": 1,
   "id": "780f1b6c",
   "metadata": {},
   "outputs": [
    {
     "data": {
      "text/plain": [
       "6"
      ]
     },
     "execution_count": 1,
     "metadata": {},
     "output_type": "execute_result"
    }
   ],
   "source": [
    "a = 0\n",
    "def b():\n",
    " global a\n",
    " a = c(a)\n",
    "def c(a):\n",
    " return a + 2\n",
    " \n",
    "b()\n",
    "b()\n",
    "b()\n",
    "a\n",
    "#Explanation- here 'a=0' is a global variable , where a global variable can be accessed throughout the program body by all functions.\n",
    "# but inside a function the variable would be local. inorder to make that varable global we use the keyword \"global\".\n",
    "# which makes the varible a same as inside and outside in the function. in the function b() defines the 'a=c(a)',where 'c' is a another function.\n",
    "# in the function c(a) is evaluated ,in c() a is added with 2. \n",
    "\n",
    "#when the first function b() is evaluated,it goes to fucntion c() there value of a=0 is added with 2 and return to the function\n",
    "# a is 2 now , after calling the function b() again,it undergo the function c(a) agian the value of a=4\n",
    "# a is 4 now, after executing the fucntion b() agaian,the value became a=6\n",
    "#now when the value a is evaluated final valaue is 6 is displayed."
   ]
  },
  {
   "cell_type": "markdown",
   "id": "b8f74e18",
   "metadata": {},
   "source": [
    "## Question - 2\n"
   ]
  },
  {
   "cell_type": "code",
   "execution_count": 2,
   "id": "6bfb091b",
   "metadata": {
    "scrolled": true
   },
   "outputs": [
    {
     "name": "stdout",
     "output_type": "stream",
     "text": [
      "123\n",
      "Sorry, the file file.txt not found.\n"
     ]
    }
   ],
   "source": [
    "def fileLength(file_name):\n",
    "    try:\n",
    "        file = open(file_name)\n",
    "        contents = file.read()\n",
    "        file.close()\n",
    "        print(len(contents))\n",
    "    except FileNotFoundError:\n",
    "        print(f\"Sorry, the file {file_name} not found.\")\n",
    "        \n",
    "fileLength(\"file1.txt\")\n",
    "fileLength(\"file.txt\")"
   ]
  },
  {
   "cell_type": "markdown",
   "id": "896d998c",
   "metadata": {},
   "source": [
    "## Question - 3"
   ]
  },
  {
   "cell_type": "code",
   "execution_count": 3,
   "id": "52f2efd8",
   "metadata": {},
   "outputs": [
    {
     "name": "stdout",
     "output_type": "stream",
     "text": [
      "['doll', 'firetruck', 'kitten']\n"
     ]
    }
   ],
   "source": [
    "class Marsupial:\n",
    "    def __init__(self):\n",
    "        self.pouch=[]\n",
    "    def put_in_pouch(self,item):\n",
    "        self.pouch.append(item)\n",
    "    def pouch_contents(self):\n",
    "        print(self.pouch)\n",
    "    \n",
    "m=Marsupial()\n",
    "m.put_in_pouch('doll')\n",
    "m.put_in_pouch('firetruck')\n",
    "m.put_in_pouch('kitten')\n",
    "m.pouch_contents()"
   ]
  },
  {
   "cell_type": "code",
   "execution_count": 4,
   "id": "3b61877b",
   "metadata": {},
   "outputs": [],
   "source": [
    "class Kangaroo(Marsupial):\n",
    "    def __init__(self, x, y):\n",
    "        super().__init__()\n",
    "        self.x = x\n",
    "        self.y = y\n",
    "\n",
    "    def jump(self, dx, dy):\n",
    "        self.x += dx\n",
    "        self.y += dy\n",
    "\n",
    "    def __str__(self):\n",
    "        return f\"I am a Kangaroo located at coordinates ({self.x}, {self.y})\""
   ]
  },
  {
   "cell_type": "code",
   "execution_count": 5,
   "id": "676578f3",
   "metadata": {},
   "outputs": [
    {
     "name": "stdout",
     "output_type": "stream",
     "text": [
      "I am a Kangaroo located at coordinates (0, 0)\n",
      "['doll', 'firetruck', 'kitten']\n",
      "I am a Kangaroo located at coordinates (3, 0)\n"
     ]
    }
   ],
   "source": [
    "k = Kangaroo(0,0)\n",
    "print(k)\n",
    "k.put_in_pouch('doll')\n",
    "k.put_in_pouch('firetruck')\n",
    "k.put_in_pouch('kitten')\n",
    "k.pouch_contents()\n",
    "k.jump(1,0)\n",
    "k.jump(1,0)\n",
    "k.jump(1,0)\n",
    "print(k)"
   ]
  },
  {
   "cell_type": "markdown",
   "id": "6b625974",
   "metadata": {},
   "source": [
    "## Question - 4"
   ]
  },
  {
   "cell_type": "code",
   "execution_count": 6,
   "id": "7beb978f",
   "metadata": {},
   "outputs": [
    {
     "name": "stdout",
     "output_type": "stream",
     "text": [
      "1\n",
      "10\n",
      "5\n",
      "16\n",
      "8\n",
      "4\n",
      "2\n",
      "1\n"
     ]
    }
   ],
   "source": [
    "def collatz(x):\n",
    "    print(x)\n",
    "    if x == 1:\n",
    "        return\n",
    "    elif x % 2 == 0:\n",
    "        val=x//2\n",
    "        collatz(val)\n",
    "    else:\n",
    "        val=3*x+1\n",
    "        collatz(val)\n",
    "\n",
    "collatz(1)\n",
    "collatz(10)\n"
   ]
  },
  {
   "cell_type": "markdown",
   "id": "06c6d37c",
   "metadata": {},
   "source": [
    "## Question - 5"
   ]
  },
  {
   "cell_type": "code",
   "execution_count": 7,
   "id": "f433ddf8",
   "metadata": {},
   "outputs": [
    {
     "name": "stdout",
     "output_type": "stream",
     "text": [
      "0"
     ]
    }
   ],
   "source": [
    "def binary(n):\n",
    "    if n > 1:\n",
    "        binary(n // 2)\n",
    "    print(n % 2, end='')\n",
    "    \n",
    "binary(0)"
   ]
  },
  {
   "cell_type": "code",
   "execution_count": 8,
   "id": "a018d1b2",
   "metadata": {},
   "outputs": [
    {
     "name": "stdout",
     "output_type": "stream",
     "text": [
      "1"
     ]
    }
   ],
   "source": [
    "binary(1)"
   ]
  },
  {
   "cell_type": "code",
   "execution_count": 9,
   "id": "fbd6f4e9",
   "metadata": {},
   "outputs": [
    {
     "name": "stdout",
     "output_type": "stream",
     "text": [
      "11"
     ]
    }
   ],
   "source": [
    "binary(3)"
   ]
  },
  {
   "cell_type": "code",
   "execution_count": 10,
   "id": "fffe832a",
   "metadata": {},
   "outputs": [
    {
     "name": "stdout",
     "output_type": "stream",
     "text": [
      "1001"
     ]
    }
   ],
   "source": [
    "binary(9)"
   ]
  },
  {
   "cell_type": "markdown",
   "id": "75be6a5a",
   "metadata": {},
   "source": [
    "## Question - 6"
   ]
  },
  {
   "cell_type": "code",
   "execution_count": 11,
   "id": "8909234e",
   "metadata": {},
   "outputs": [
    {
     "name": "stdout",
     "output_type": "stream",
     "text": [
      "W3C Mission\n",
      "\tPrinciples\n",
      "\t"
     ]
    }
   ],
   "source": [
    "from html.parser import HTMLParser\n",
    "store=[]\n",
    "class HeadingParser(HTMLParser):\n",
    "    global store\n",
    "    def handle_starttag(self, tag, attrs):\n",
    "        store.append(tag)\n",
    "    def handle_data(self, data):\n",
    "        store.append(data)        \n",
    "    def handle_endtag(self,tag):\n",
    "        if(tag==\"html\"):\n",
    "            for var in store:\n",
    "                for htag in ('h1','h2','h3','h4','h5','h6'):\n",
    "                    if(var==htag):\n",
    "                        i=store.index(htag)\n",
    "                        print(store[i+1],end=\"\\n\\t\")\n",
    "\n",
    "                        \n",
    "parser = HeadingParser()\n",
    "infile = open('W3C.html')\n",
    "content = infile.read()\n",
    "infile.close()\n",
    "hp = HeadingParser()\n",
    "hp.feed(content)"
   ]
  },
  {
   "cell_type": "markdown",
   "id": "d9b269df",
   "metadata": {},
   "source": [
    "## Question - 7"
   ]
  },
  {
   "cell_type": "code",
   "execution_count": 12,
   "id": "dac45ec0",
   "metadata": {},
   "outputs": [
    {
     "name": "stdout",
     "output_type": "stream",
     "text": [
      "http://reed.cs.depaul.edu/lperkovic/csc242/test1.html\n"
     ]
    }
   ],
   "source": [
    "import requests\n",
    "from bs4 import BeautifulSoup\n",
    "\n",
    "\n",
    "def webdir(url, depth, indent):\n",
    "    if depth < 0:\n",
    "        return\n",
    "\n",
    "    response = requests.get(url)\n",
    "    soup = BeautifulSoup(response.content, 'html.parser')\n",
    "\n",
    "    print(' ' * indent + url)\n",
    "\n",
    "    if depth == 0:\n",
    "        return\n",
    "\n",
    "    for link in soup.find_all('a'):\n",
    "        href = link.get('href')\n",
    "        if href and href.startswith('http'):\n",
    "            webdir(href, depth - 1, indent + 1)\n",
    "        \n",
    "webdir('http://reed.cs.depaul.edu/lperkovic/csc242/test1.html', 2, 0)\n",
    "            \n",
    "            \n"
   ]
  },
  {
   "cell_type": "markdown",
   "id": "53ce2eff",
   "metadata": {},
   "source": [
    "## Question - 8"
   ]
  },
  {
   "cell_type": "code",
   "execution_count": 13,
   "id": "7bd8925b",
   "metadata": {},
   "outputs": [
    {
     "name": "stdout",
     "output_type": "stream",
     "text": [
      "Requirement already satisfied: ipython-sql in c:\\users\\chith\\anaconda3\\lib\\site-packages (0.5.0)\n",
      "Requirement already satisfied: six in c:\\users\\chith\\anaconda3\\lib\\site-packages (from ipython-sql) (1.16.0)\n",
      "Requirement already satisfied: ipython-genutils in c:\\users\\chith\\anaconda3\\lib\\site-packages (from ipython-sql) (0.2.0)\n",
      "Requirement already satisfied: sqlalchemy>=2.0 in c:\\users\\chith\\anaconda3\\lib\\site-packages (from ipython-sql) (2.0.18)\n",
      "Requirement already satisfied: prettytable in c:\\users\\chith\\anaconda3\\lib\\site-packages (from ipython-sql) (3.8.0)\n",
      "Requirement already satisfied: ipython in c:\\users\\chith\\anaconda3\\lib\\site-packages (from ipython-sql) (8.10.0)\n",
      "Requirement already satisfied: sqlparse in c:\\users\\chith\\anaconda3\\lib\\site-packages (from ipython-sql) (0.4.4)\n",
      "Requirement already satisfied: greenlet!=0.4.17 in c:\\users\\chith\\anaconda3\\lib\\site-packages (from sqlalchemy>=2.0->ipython-sql) (2.0.1)\n",
      "Requirement already satisfied: typing-extensions>=4.2.0 in c:\\users\\chith\\anaconda3\\lib\\site-packages (from sqlalchemy>=2.0->ipython-sql) (4.4.0)\n",
      "Requirement already satisfied: decorator in c:\\users\\chith\\anaconda3\\lib\\site-packages (from ipython->ipython-sql) (5.1.1)\n",
      "Requirement already satisfied: colorama in c:\\users\\chith\\anaconda3\\lib\\site-packages (from ipython->ipython-sql) (0.4.6)\n",
      "Requirement already satisfied: jedi>=0.16 in c:\\users\\chith\\anaconda3\\lib\\site-packages (from ipython->ipython-sql) (0.18.1)\n",
      "Requirement already satisfied: pygments>=2.4.0 in c:\\users\\chith\\anaconda3\\lib\\site-packages (from ipython->ipython-sql) (2.11.2)\n",
      "Requirement already satisfied: backcall in c:\\users\\chith\\anaconda3\\lib\\site-packages (from ipython->ipython-sql) (0.2.0)\n",
      "Requirement already satisfied: prompt-toolkit<3.1.0,>=3.0.30 in c:\\users\\chith\\anaconda3\\lib\\site-packages (from ipython->ipython-sql) (3.0.36)\n",
      "Requirement already satisfied: pickleshare in c:\\users\\chith\\anaconda3\\lib\\site-packages (from ipython->ipython-sql) (0.7.5)\n",
      "Requirement already satisfied: stack-data in c:\\users\\chith\\anaconda3\\lib\\site-packages (from ipython->ipython-sql) (0.2.0)\n",
      "Requirement already satisfied: traitlets>=5 in c:\\users\\chith\\anaconda3\\lib\\site-packages (from ipython->ipython-sql) (5.7.1)\n",
      "Requirement already satisfied: matplotlib-inline in c:\\users\\chith\\anaconda3\\lib\\site-packages (from ipython->ipython-sql) (0.1.6)\n",
      "Requirement already satisfied: wcwidth in c:\\users\\chith\\anaconda3\\lib\\site-packages (from prettytable->ipython-sql) (0.2.5)\n",
      "Requirement already satisfied: parso<0.9.0,>=0.8.0 in c:\\users\\chith\\anaconda3\\lib\\site-packages (from jedi>=0.16->ipython->ipython-sql) (0.8.3)\n",
      "Requirement already satisfied: pure-eval in c:\\users\\chith\\anaconda3\\lib\\site-packages (from stack-data->ipython->ipython-sql) (0.2.2)\n",
      "Requirement already satisfied: executing in c:\\users\\chith\\anaconda3\\lib\\site-packages (from stack-data->ipython->ipython-sql) (0.8.3)\n",
      "Requirement already satisfied: asttokens in c:\\users\\chith\\anaconda3\\lib\\site-packages (from stack-data->ipython->ipython-sql) (2.0.5)\n"
     ]
    }
   ],
   "source": [
    "!pip install ipython-sql"
   ]
  },
  {
   "cell_type": "code",
   "execution_count": 19,
   "id": "200320c9",
   "metadata": {
    "scrolled": true
   },
   "outputs": [
    {
     "ename": "OperationalError",
     "evalue": "table climate already exists",
     "output_type": "error",
     "traceback": [
      "\u001b[1;31m---------------------------------------------------------------------------\u001b[0m",
      "\u001b[1;31mOperationalError\u001b[0m                          Traceback (most recent call last)",
      "Cell \u001b[1;32mIn[19], line 10\u001b[0m\n\u001b[0;32m      7\u001b[0m c \u001b[38;5;241m=\u001b[39m conn\u001b[38;5;241m.\u001b[39mcursor()\n\u001b[0;32m      9\u001b[0m \u001b[38;5;66;03m# create table \u001b[39;00m\n\u001b[1;32m---> 10\u001b[0m \u001b[43mc\u001b[49m\u001b[38;5;241;43m.\u001b[39;49m\u001b[43mexecute\u001b[49m\u001b[43m(\u001b[49m\u001b[38;5;124;43m'''\u001b[39;49m\u001b[38;5;124;43mCREATE TABLE climate\u001b[39;49m\n\u001b[0;32m     11\u001b[0m \u001b[38;5;124;43m            (\u001b[39;49m\n\u001b[0;32m     12\u001b[0m \u001b[38;5;124;43m                City TEXT,\u001b[39;49m\n\u001b[0;32m     13\u001b[0m \u001b[38;5;124;43m                Country TEXT,\u001b[39;49m\n\u001b[0;32m     14\u001b[0m \u001b[38;5;124;43m                Season TEXT,\u001b[39;49m\n\u001b[0;32m     15\u001b[0m \u001b[38;5;124;43m                Temperature REAL,\u001b[39;49m\n\u001b[0;32m     16\u001b[0m \u001b[38;5;124;43m                Rainfall REAL\u001b[39;49m\n\u001b[0;32m     17\u001b[0m \u001b[38;5;124;43m             )\u001b[39;49m\u001b[38;5;124;43m'''\u001b[39;49m\u001b[43m)\u001b[49m\n\u001b[0;32m     19\u001b[0m \u001b[38;5;66;03m# insert data into table \u001b[39;00m\n\u001b[0;32m     20\u001b[0m weather_data \u001b[38;5;241m=\u001b[39m [(\u001b[38;5;124m'\u001b[39m\u001b[38;5;124mMumbai\u001b[39m\u001b[38;5;124m'\u001b[39m, \u001b[38;5;124m'\u001b[39m\u001b[38;5;124mIndia\u001b[39m\u001b[38;5;124m'\u001b[39m, \u001b[38;5;124m'\u001b[39m\u001b[38;5;124mWinter\u001b[39m\u001b[38;5;124m'\u001b[39m, \u001b[38;5;241m24.8\u001b[39m, \u001b[38;5;241m5.9\u001b[39m),\n\u001b[0;32m     21\u001b[0m                 (\u001b[38;5;124m'\u001b[39m\u001b[38;5;124mMumbai\u001b[39m\u001b[38;5;124m'\u001b[39m, \u001b[38;5;124m'\u001b[39m\u001b[38;5;124mIndia\u001b[39m\u001b[38;5;124m'\u001b[39m, \u001b[38;5;124m'\u001b[39m\u001b[38;5;124mSpring\u001b[39m\u001b[38;5;124m'\u001b[39m, \u001b[38;5;241m28.4\u001b[39m, \u001b[38;5;241m16.2\u001b[39m),\n\u001b[0;32m     22\u001b[0m                 (\u001b[38;5;124m'\u001b[39m\u001b[38;5;124mMumbai\u001b[39m\u001b[38;5;124m'\u001b[39m, \u001b[38;5;124m'\u001b[39m\u001b[38;5;124mIndia\u001b[39m\u001b[38;5;124m'\u001b[39m, \u001b[38;5;124m'\u001b[39m\u001b[38;5;124mSummer\u001b[39m\u001b[38;5;124m'\u001b[39m, \u001b[38;5;241m27.9\u001b[39m, \u001b[38;5;241m1549.4\u001b[39m),\n\u001b[1;32m   (...)\u001b[0m\n\u001b[0;32m     30\u001b[0m                 (\u001b[38;5;124m'\u001b[39m\u001b[38;5;124mCairo\u001b[39m\u001b[38;5;124m'\u001b[39m, \u001b[38;5;124m'\u001b[39m\u001b[38;5;124mEgypt\u001b[39m\u001b[38;5;124m'\u001b[39m, \u001b[38;5;124m'\u001b[39m\u001b[38;5;124mSummer\u001b[39m\u001b[38;5;124m'\u001b[39m, \u001b[38;5;241m27.7\u001b[39m, \u001b[38;5;241m0.1\u001b[39m),\n\u001b[0;32m     31\u001b[0m                 (\u001b[38;5;124m'\u001b[39m\u001b[38;5;124mCairo\u001b[39m\u001b[38;5;124m'\u001b[39m, \u001b[38;5;124m'\u001b[39m\u001b[38;5;124mEgypt\u001b[39m\u001b[38;5;124m'\u001b[39m, \u001b[38;5;124m'\u001b[39m\u001b[38;5;124mFall\u001b[39m\u001b[38;5;124m'\u001b[39m, \u001b[38;5;241m22.2\u001b[39m, \u001b[38;5;241m4.5\u001b[39m)]\n",
      "\u001b[1;31mOperationalError\u001b[0m: table climate already exists"
     ]
    }
   ],
   "source": [
    "import sqlite3\n",
    "con = sqlite3.connect('weather.db')\n",
    "cur = con.cursor()\n",
    "cur.execute('''CREATE TABLE climate\n",
    "            (\n",
    "                City TEXT,\n",
    "                Country TEXT,\n",
    "                Season TEXT,\n",
    "                Temperature REAL,\n",
    "                Rainfall REAL\n",
    "             )''')\n",
    " \n",
    "weather_data = [('Mumbai', 'India', 'Winter', 24.8, 5.9),\n",
    "                ('Mumbai', 'India', 'Spring', 28.4, 16.2),\n",
    "                ('Mumbai', 'India', 'Summer', 27.9, 1549.4),\n",
    "                ('Mumbai', 'India', 'Fall', 27.6, 346.0),\n",
    "                ('London', 'United Kingdom', 'Winter', 4.2, 207.7),\n",
    "                ('London', 'United Kingdom', 'Spring', 8.3, 169.6),\n",
    "                ('London', 'United Kingdom', 'Summer', 15.7, 157.0),\n",
    "                ('London', 'United Kingdom', 'Fall', 10.4, 218.5),\n",
    "                ('Cairo', 'Egypt', 'Winter', 13.6, 16.5),\n",
    "                ('Cairo', 'Egypt', 'Spring', 20.7, 6.5),\n",
    "                ('Cairo', 'Egypt', 'Summer', 27.7, 0.1),\n",
    "                ('Cairo', 'Egypt', 'Fall', 22.2, 4.5)]\n",
    "cur.executemany('INSERT INTO climate VALUES (?, ?, ?, ?, ?)', weather_data)\n",
    "con.commit()\n",
    "con.close()"
   ]
  },
  {
   "cell_type": "code",
   "execution_count": 26,
   "id": "30a8f20a",
   "metadata": {},
   "outputs": [
    {
     "name": "stdout",
     "output_type": "stream",
     "text": [
      "All the temperature data : [(24.8,), (28.4,), (27.9,), (27.6,), (4.2,), (8.3,), (15.7,), (10.4,), (13.6,), (20.7,), (27.7,), (22.2,)]\n"
     ]
    }
   ],
   "source": [
    "#a All the temperature data\n",
    "import sqlite3\n",
    "con = sqlite3.connect('weather.db')\n",
    "cur = con.cursor()\n",
    "cur.execute('SELECT Temperature FROM climate')\n",
    "temperature_data = cur.fetchall()\n",
    "print(\"All the temperature data :\",temperature_data)\n"
   ]
  },
  {
   "cell_type": "code",
   "execution_count": 25,
   "id": "af2a3f34",
   "metadata": {},
   "outputs": [
    {
     "name": "stdout",
     "output_type": "stream",
     "text": [
      "All the cities, but without repetition : [('Mumbai',), ('Mumbai',), ('Mumbai',), ('Mumbai',), ('London',), ('London',), ('London',), ('London',), ('Cairo',), ('Cairo',), ('Cairo',), ('Cairo',)]\n"
     ]
    }
   ],
   "source": [
    "#b All the cities, but without repetition\n",
    "cur.execute('SELECT DISTINCT city FROM climate')\n",
    "city_data = cur.fetchall()\n",
    "print('All the cities, but without repetition :',city_data)"
   ]
  },
  {
   "cell_type": "code",
   "execution_count": 31,
   "id": "865aea87",
   "metadata": {},
   "outputs": [
    {
     "name": "stdout",
     "output_type": "stream",
     "text": [
      "All the records for India: [('Mumbai', 'India', 'Winter', 24.8, 5.9), ('Mumbai', 'India', 'Spring', 28.4, 16.2), ('Mumbai', 'India', 'Summer', 27.9, 1549.4), ('Mumbai', 'India', 'Fall', 27.6, 346.0)]\n"
     ]
    }
   ],
   "source": [
    "#c All the records for India\n",
    "cur.execute(\"SELECT * FROM climate WHERE  Country  = 'India'\")\n",
    "India_data = cur.fetchall()\n",
    "print('All the records for India:',India_data)"
   ]
  },
  {
   "cell_type": "code",
   "execution_count": 32,
   "id": "c1fbfefc",
   "metadata": {},
   "outputs": [
    {
     "name": "stdout",
     "output_type": "stream",
     "text": [
      "All the records for fall: [('Mumbai', 'India', 'Fall', 27.6, 346.0), ('London', 'United Kingdom', 'Fall', 10.4, 218.5), ('Cairo', 'Egypt', 'Fall', 22.2, 4.5)]\n"
     ]
    }
   ],
   "source": [
    "#d All the records for fall\n",
    "cur.execute(\"SELECT * FROM climate WHERE  Season  = 'Fall'\")\n",
    "Fall_data = cur.fetchall()\n",
    "print('All the records for fall:',Fall_data)"
   ]
  },
  {
   "cell_type": "code",
   "execution_count": null,
   "id": "935eccfe",
   "metadata": {},
   "outputs": [],
   "source": [
    "#g The total annual rainfall for Cairo\n",
    "cur.execute(\"SELECT SUM(Rainfall) AS TotalRainfall FROM climate WHERE City = 'Cairo'\")\n",
    "sum_rainfall = c.fetchone()[0]\n",
    "print(\"The total annual rainfall for Cairo:\",sum_rainfall)"
   ]
  },
  {
   "cell_type": "code",
   "execution_count": 35,
   "id": "c04771e6",
   "metadata": {},
   "outputs": [
    {
     "name": "stdout",
     "output_type": "stream",
     "text": [
      "The total rainfall for each season: [('Fall', 569.0), ('Spring', 192.29999999999998), ('Summer', 1706.5), ('Winter', 230.1)]\n"
     ]
    }
   ],
   "source": [
    "#h The total rainfall for each season\n",
    "cur.execute(\"SELECT Season, SUM(Rainfall) AS TotalRainfall FROM climate GROUP BY Season\")\n",
    "sea_rainfall = cur.fetchall()\n",
    "print(\"The total rainfall for each season:\",sea_rainfall)"
   ]
  },
  {
   "cell_type": "markdown",
   "id": "6ae59656",
   "metadata": {},
   "source": [
    "## Question - 9"
   ]
  },
  {
   "cell_type": "code",
   "execution_count": null,
   "id": "c35f84a8",
   "metadata": {},
   "outputs": [],
   "source": [
    "words = ['The', 'quick', 'brown', 'fox', 'jumps', 'over', 'the', 'lazy', 'dog']\n",
    "\n",
    "upper_words = [word.upper() for word in words]\n",
    "print(\"The words in uppercase:\",upper_words)\n",
    "\n",
    "lower_words = [word.lower() for word in words]\n",
    "print(\"The words in lowercase:\",lower_words)\n",
    "\n",
    "len_words = [len(word) for word in words]\n",
    "print(\"Length of each word in words :\",len_words)\n",
    "\n",
    "newlist= [[word.upper(), word.lower(), len(word)] for word in words]\n",
    "print(\"The content of list:\",newlist)\n",
    "\n",
    "list_2= [word for word in words if len(word) >= 4]\n",
    "print(\"The list of words in list words containing 4 or more characters:\",list_2)\n",
    "\n"
   ]
  }
 ],
 "metadata": {
  "kernelspec": {
   "display_name": "Python 3 (ipykernel)",
   "language": "python",
   "name": "python3"
  },
  "language_info": {
   "codemirror_mode": {
    "name": "ipython",
    "version": 3
   },
   "file_extension": ".py",
   "mimetype": "text/x-python",
   "name": "python",
   "nbconvert_exporter": "python",
   "pygments_lexer": "ipython3",
   "version": "3.10.9"
  }
 },
 "nbformat": 4,
 "nbformat_minor": 5
}
